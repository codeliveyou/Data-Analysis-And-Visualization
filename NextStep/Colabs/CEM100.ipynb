{
  "nbformat": 4,
  "nbformat_minor": 0,
  "metadata": {
    "colab": {
      "provenance": []
    },
    "kernelspec": {
      "name": "python3",
      "display_name": "Python 3"
    },
    "language_info": {
      "name": "python"
    }
  },
  "cells": [
    {
      "cell_type": "code",
      "source": [
        "import pandas as pd\n",
        "\n",
        "df = pd.read_csv(\"/content/data_4vehicle_data.csv\")\n",
        "\n",
        "# Filter vehicles manufactured in the United States\n",
        "us_vehicles = df[df['country_of_origin'] == 'United States']\n",
        "# Calculate the average acceleration time for US vehicles\n",
        "average_acceleration_us = us_vehicles['acceleration_in_seconds'].mean()\n",
        "print(f\"The average acceleration time of vehicles manufactured in the United States is {average_acceleration_us:.2f} seconds.\")"
      ],
      "metadata": {
        "colab": {
          "base_uri": "https://localhost:8080/"
        },
        "id": "aZ6sEwvzeRCD",
        "outputId": "0cca0c23-4a81-4787-e43b-d7b67d470a6f"
      },
      "execution_count": 13,
      "outputs": [
        {
          "output_type": "stream",
          "name": "stdout",
          "text": [
            "The average acceleration time of vehicles manufactured in the United States is 6.32 seconds.\n"
          ]
        }
      ]
    }
  ]
}