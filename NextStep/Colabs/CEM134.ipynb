{
  "nbformat": 4,
  "nbformat_minor": 0,
  "metadata": {
    "colab": {
      "provenance": []
    },
    "kernelspec": {
      "name": "python3",
      "display_name": "Python 3"
    },
    "language_info": {
      "name": "python"
    }
  },
  "cells": [
    {
      "cell_type": "code",
      "source": [
        "import pandas as pd\n",
        "\n",
        "df = pd.read_csv(\"/content/data_44covid_data.csv\")\n",
        "middle_east_data = df[df['sub_region'] == 'Middle East']\n",
        "\n",
        "# Calculate the sum of total cases in the Middle East region\n",
        "sum_total_cases_middle_east = middle_east_data['total_cases'].sum()\n",
        "\n",
        "print(\"Sum of Total Cases in Middle East:\", sum_total_cases_middle_east)\n"
      ],
      "metadata": {
        "colab": {
          "base_uri": "https://localhost:8080/"
        },
        "id": "aZ6sEwvzeRCD",
        "outputId": "d1063169-958f-4475-bd54-e9081d98d464"
      },
      "execution_count": 11,
      "outputs": [
        {
          "output_type": "stream",
          "name": "stdout",
          "text": [
            "Sum of Total Cases in Middle East: 75000\n"
          ]
        }
      ]
    }
  ]
}