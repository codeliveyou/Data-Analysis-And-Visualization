{
  "nbformat": 4,
  "nbformat_minor": 0,
  "metadata": {
    "colab": {
      "provenance": []
    },
    "kernelspec": {
      "name": "python3",
      "display_name": "Python 3"
    },
    "language_info": {
      "name": "python"
    }
  },
  "cells": [
    {
      "cell_type": "code",
      "source": [
        "import pandas as pd\n",
        "\n",
        "df = pd.read_csv(\"/content/data_4vehicle_data.csv\")\n",
        "# Count the number of vehicles manufactured in the year 2005\n",
        "vehicles_in_2021 = df[df['year_manufactured'] == 2021]\n",
        "count_vehicles_in_2021 = len(vehicles_in_2021)\n",
        "\n",
        "print(\"Number of vehicles manufactured in the year 2021:\", count_vehicles_in_2021)"
      ],
      "metadata": {
        "colab": {
          "base_uri": "https://localhost:8080/"
        },
        "id": "aZ6sEwvzeRCD",
        "outputId": "68280934-fd57-4a0a-9314-7b02d2394dbd"
      },
      "execution_count": 15,
      "outputs": [
        {
          "output_type": "stream",
          "name": "stdout",
          "text": [
            "Number of vehicles manufactured in the year 2021: 1\n"
          ]
        }
      ]
    }
  ]
}