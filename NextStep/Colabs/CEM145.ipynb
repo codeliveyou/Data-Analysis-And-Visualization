{
  "nbformat": 4,
  "nbformat_minor": 0,
  "metadata": {
    "colab": {
      "provenance": []
    },
    "kernelspec": {
      "name": "python3",
      "display_name": "Python 3"
    },
    "language_info": {
      "name": "python"
    }
  },
  "cells": [
    {
      "cell_type": "code",
      "source": [
        "import pandas as pd\n",
        "\n",
        "df = pd.read_csv(\"/content/data_63mental_health.csv\")\n",
        "# Calculate the median of the 'community_events_attendance_rate' column\n",
        "median_attendance_rate = df['community_events_attendance_rate'].median()\n",
        "\n",
        "print(\"Median Community Events Attendance Rate:\", median_attendance_rate)"
      ],
      "metadata": {
        "colab": {
          "base_uri": "https://localhost:8080/"
        },
        "id": "aZ6sEwvzeRCD",
        "outputId": "f443a0ca-6ad2-4258-fa52-c36c77433e48"
      },
      "execution_count": 17,
      "outputs": [
        {
          "output_type": "stream",
          "name": "stdout",
          "text": [
            "Median Community Events Attendance Rate: 50.0\n"
          ]
        }
      ]
    }
  ]
}