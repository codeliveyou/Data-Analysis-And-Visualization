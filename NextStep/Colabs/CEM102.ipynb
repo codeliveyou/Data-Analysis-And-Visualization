{
  "nbformat": 4,
  "nbformat_minor": 0,
  "metadata": {
    "colab": {
      "provenance": []
    },
    "kernelspec": {
      "name": "python3",
      "display_name": "Python 3"
    },
    "language_info": {
      "name": "python"
    }
  },
  "cells": [
    {
      "cell_type": "code",
      "source": [
        "import pandas as pd\n",
        "\n",
        "df = pd.read_csv(\"/content/data_4vehicle_data.csv\")\n",
        "total_weight = df['weight_in_pounds'].sum()\n",
        "print(\"Total weight of all vehicles:\", total_weight, \"pounds\")"
      ],
      "metadata": {
        "colab": {
          "base_uri": "https://localhost:8080/"
        },
        "id": "aZ6sEwvzeRCD",
        "outputId": "fda35863-cd51-417a-c068-944b560ea32f"
      },
      "execution_count": 17,
      "outputs": [
        {
          "output_type": "stream",
          "name": "stdout",
          "text": [
            "Total weight of all vehicles: 74 pounds\n"
          ]
        }
      ]
    }
  ]
}