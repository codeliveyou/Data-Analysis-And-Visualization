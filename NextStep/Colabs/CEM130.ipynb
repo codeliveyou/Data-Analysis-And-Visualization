{
  "nbformat": 4,
  "nbformat_minor": 0,
  "metadata": {
    "colab": {
      "provenance": []
    },
    "kernelspec": {
      "name": "python3",
      "display_name": "Python 3"
    },
    "language_info": {
      "name": "python"
    }
  },
  "cells": [
    {
      "cell_type": "code",
      "source": [
        "import pandas as pd\n",
        "\n",
        "df = pd.read_csv(\"/content/data_44covid_data.csv\")\n",
        "total_cases = df['total_cases'].sum()\n",
        "print(\"Total number of cases across all countries and years:\", total_cases)"
      ],
      "metadata": {
        "colab": {
          "base_uri": "https://localhost:8080/"
        },
        "id": "aZ6sEwvzeRCD",
        "outputId": "43afc446-62b7-4c8b-9436-a494a04f8338"
      },
      "execution_count": 4,
      "outputs": [
        {
          "output_type": "stream",
          "name": "stdout",
          "text": [
            "Total number of cases across all countries and years: 2705450\n"
          ]
        }
      ]
    }
  ]
}