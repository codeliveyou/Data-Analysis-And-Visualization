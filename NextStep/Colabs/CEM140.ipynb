{
  "nbformat": 4,
  "nbformat_minor": 0,
  "metadata": {
    "colab": {
      "provenance": []
    },
    "kernelspec": {
      "name": "python3",
      "display_name": "Python 3"
    },
    "language_info": {
      "name": "python"
    }
  },
  "cells": [
    {
      "cell_type": "code",
      "source": [
        "import pandas as pd\n",
        "\n",
        "df = pd.read_csv(\"/content/data_63mental_health.csv\")\n",
        "\n",
        "threshold_category = \"Medium\"\n",
        "\n",
        "# Define a mapping of categories to numerical values (you can adjust these as needed)\n",
        "category_mapping = {\n",
        "    \"Low\": 1,\n",
        "    \"Medium\": 2,\n",
        "    \"High\": 3\n",
        "}\n",
        "\n",
        "# Convert the category column to numerical values based on the mapping\n",
        "df['police_trust_numeric'] = df['police_trust'].map(category_mapping)\n",
        "\n",
        "# Calculate the percentage of instances where police trust is above the threshold\n",
        "above_threshold_count = df[df['police_trust_numeric'] > category_mapping[threshold_category]].shape[0]\n",
        "total_instances = df.shape[0]\n",
        "\n",
        "percentage_above_threshold = (above_threshold_count / total_instances) * 100\n",
        "\n",
        "print(f\"The percentage of instances where police trust is above {threshold_category}: {percentage_above_threshold:.2f}%\")\n"
      ],
      "metadata": {
        "colab": {
          "base_uri": "https://localhost:8080/"
        },
        "id": "aZ6sEwvzeRCD",
        "outputId": "9d69149d-c9c1-4549-c365-9f88a9d41dd4"
      },
      "execution_count": 16,
      "outputs": [
        {
          "output_type": "stream",
          "name": "stdout",
          "text": [
            "The percentage of instances where police trust is above Medium: 33.33%\n"
          ]
        }
      ]
    }
  ]
}