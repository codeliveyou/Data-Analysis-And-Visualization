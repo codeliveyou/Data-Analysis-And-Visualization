{
  "nbformat": 4,
  "nbformat_minor": 0,
  "metadata": {
    "colab": {
      "provenance": []
    },
    "kernelspec": {
      "name": "python3",
      "display_name": "Python 3"
    },
    "language_info": {
      "name": "python"
    }
  },
  "cells": [
    {
      "cell_type": "code",
      "source": [
        "import pandas as pd\n",
        "\n",
        "df = pd.read_csv(\"/content/data_63mental_health.csv\")\n",
        "# Calculate the average affordable housing units\n",
        "average_affordable_housing = df['affordable_housing_units'].mean()\n",
        "\n",
        "print(f\"The average affordable housing units is: {average_affordable_housing:.2f}\")\n"
      ],
      "metadata": {
        "colab": {
          "base_uri": "https://localhost:8080/"
        },
        "id": "aZ6sEwvzeRCD",
        "outputId": "c1772d23-de73-4309-fac5-6aa3554eb77e"
      },
      "execution_count": 13,
      "outputs": [
        {
          "output_type": "stream",
          "name": "stdout",
          "text": [
            "The average affordable housing units is: 583.33\n"
          ]
        }
      ]
    }
  ]
}