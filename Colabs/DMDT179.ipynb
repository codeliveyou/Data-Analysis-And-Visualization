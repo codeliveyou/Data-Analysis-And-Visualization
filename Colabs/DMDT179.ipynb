{
  "nbformat": 4,
  "nbformat_minor": 0,
  "metadata": {
    "colab": {
      "provenance": []
    },
    "kernelspec": {
      "name": "python3",
      "display_name": "Python 3"
    },
    "language_info": {
      "name": "python"
    }
  },
  "cells": [
    {
      "cell_type": "code",
      "execution_count": 7,
      "metadata": {
        "colab": {
          "base_uri": "https://localhost:8080/"
        },
        "id": "DMgu_PLOAabA",
        "outputId": "b23a8b73-2447-44ac-9eac-1698ba48c04f"
      },
      "outputs": [
        {
          "output_type": "stream",
          "name": "stdout",
          "text": [
            "Average Age at Hiring: 11.588424437299036\n"
          ]
        }
      ],
      "source": [
        "import pandas as pd\n",
        "from datetime import datetime\n",
        "\n",
        "df = pd.read_csv(\"/content/HRDataset_v14.csv\")\n",
        "\n",
        "df['DOB'] = pd.to_datetime(df['DOB'])\n",
        "df['DateofHire'] = pd.to_datetime(df['DateofHire'])\n",
        "\n",
        "# Calculate age at hiring for each employee\n",
        "df['AgeAtHiring'] = (df['DateofHire'].dt.year - df['DOB'].dt.year)\n",
        "\n",
        "# Calculate the average age at hiring\n",
        "average_age_at_hiring = df['AgeAtHiring'].mean()\n",
        "\n",
        "# Print average age at hiring\n",
        "print(\"Average Age at Hiring:\", average_age_at_hiring)\n",
        "\n"
      ]
    }
  ]
}