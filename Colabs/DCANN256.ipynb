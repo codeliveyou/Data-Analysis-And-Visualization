{
  "nbformat": 4,
  "nbformat_minor": 0,
  "metadata": {
    "colab": {
      "provenance": []
    },
    "kernelspec": {
      "name": "python3",
      "display_name": "Python 3"
    },
    "language_info": {
      "name": "python"
    }
  },
  "cells": [
    {
      "cell_type": "code",
      "execution_count": 5,
      "metadata": {
        "colab": {
          "base_uri": "https://localhost:8080/"
        },
        "id": "PuKpJnmBjgTh",
        "outputId": "c1ebaffe-ae21-4493-9574-5ae3712f49d1"
      },
      "outputs": [
        {
          "output_type": "stream",
          "name": "stdout",
          "text": [
            "Total number of occurrences of different values in the sport column:\n",
            "Athletics        10629\n",
            "Gymnastics        6248\n",
            "Swimming          5964\n",
            "Fencing           3096\n",
            "Shooting          3040\n",
            "                 ...  \n",
            "Racquets             6\n",
            "Motorboating         5\n",
            "Jeu De Paume         2\n",
            "Roque                2\n",
            "Basque Pelota        1\n",
            "Name: Sport, Length: 65, dtype: int64\n"
          ]
        }
      ],
      "source": [
        "import pandas as pd\n",
        "try:\n",
        "    df = pd.read_csv(\"/content/dataset_olympics.csv\")\n",
        "    # Replace 'Team' with the actual description or characteristic of the column\n",
        "\n",
        "    column_description = 'Sport'\n",
        "\n",
        "    # Calculate the number of occurrences for each unique value in the specified column\n",
        "    sports_counts = df[column_description].value_counts()\n",
        "    print(\"Total number of occurrences of different values in the sport column:\")\n",
        "    print(sports_counts)\n",
        "\n",
        "except Exception as e:\n",
        "    print(f\"An error occurred while loading the CSV file: {e}, please check the correct path to the CSV file.\")"
      ]
    }
  ]
}